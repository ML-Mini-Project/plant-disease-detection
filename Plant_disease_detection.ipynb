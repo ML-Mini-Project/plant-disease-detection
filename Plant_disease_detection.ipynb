{
 "cells": [
  {
   "cell_type": "code",
   "execution_count": null,
   "id": "3b5238c3",
   "metadata": {
    "id": "3b5238c3"
   },
   "outputs": [],
   "source": [
    "from PIL import Image\n",
    "import keras\n",
    "from keras_preprocessing.image import ImageDataGenerator,load_img,img_to_array\n",
    "from keras.applications.vgg19 import VGG19, preprocess_input, decode_predictions\n",
    "import os\n",
    "import numpy as np\n",
    "import pandas as pd\n",
    "import matplotlib.pyplot as plt\n",
    "import tensorflow as tf\n"
   ]
  },
  {
   "cell_type": "code",
   "execution_count": null,
   "id": "AFctiSelyD75",
   "metadata": {
    "colab": {
     "base_uri": "https://localhost:8080/"
    },
    "id": "AFctiSelyD75",
    "outputId": "d1f763bc-7620-4add-ceb4-b150ac9f75eb"
   },
   "outputs": [],
   "source": [
    "!pip install tensorflow_model_optimization"
   ]
  },
  {
   "cell_type": "code",
   "execution_count": null,
   "id": "1b85bb46",
   "metadata": {},
   "outputs": [],
   "source": [
    "import tensorflow_model_optimization as tmot\n"
   ]
  },
  {
   "cell_type": "code",
   "execution_count": null,
   "id": "0680deb7",
   "metadata": {},
   "outputs": [],
   "source": [
    "tmot"
   ]
  },
  {
   "cell_type": "code",
   "execution_count": null,
   "id": "glSEhzBPDseh",
   "metadata": {
    "colab": {
     "base_uri": "https://localhost:8080/"
    },
    "id": "glSEhzBPDseh",
    "outputId": "0e13e50f-9cbb-4d42-b31c-ae54e140572f"
   },
   "outputs": [],
   "source": []
  },
  {
   "cell_type": "code",
   "execution_count": null,
   "id": "f4EZPiBsJCW-",
   "metadata": {
    "colab": {
     "base_uri": "https://localhost:8080/"
    },
    "id": "f4EZPiBsJCW-",
    "outputId": "454f4a55-d393-4abd-8b32-e5b3dd9c56ea"
   },
   "outputs": [],
   "source": [
    "train_directory = (r'C:\\Users\\vrush\\Downloads\\plant\\image data\\train')\n",
    "val_directory = (r'C:\\Users\\vrush\\Downloads\\plant\\image data\\validation')"
   ]
  },
  {
   "cell_type": "code",
   "execution_count": null,
   "id": "b4ee415f",
   "metadata": {
    "id": "b4ee415f"
   },
   "outputs": [],
   "source": [
    "train_datagen= ImageDataGenerator(zoom_range=0.5, shear_range=0.3, horizontal_flip=True, preprocessing_function=preprocess_input)\n",
    "val_datagen= ImageDataGenerator(preprocessing_function=preprocess_input)"
   ]
  },
  {
   "cell_type": "code",
   "execution_count": null,
   "id": "xog1lzF_heZk",
   "metadata": {
    "id": "xog1lzF_heZk"
   },
   "outputs": [],
   "source": [
    "def train_preprocess(path_preprocess):\n",
    "  train= train_datagen.flow_from_directory(directory=path_preprocess, target_size=(256,256), batch_size=32)\n",
    "  return train"
   ]
  },
  {
   "cell_type": "code",
   "execution_count": null,
   "id": "rpUZ4HgLiF4G",
   "metadata": {
    "id": "rpUZ4HgLiF4G"
   },
   "outputs": [],
   "source": [
    "def validation_preprocess(path_preprocess):\n",
    "  val= val_datagen.flow_from_directory(directory= path_preprocess, target_size=(256,256), batch_size=32)\n",
    "  return val"
   ]
  },
  {
   "cell_type": "code",
   "execution_count": null,
   "id": "1P9DJzFnignD",
   "metadata": {
    "colab": {
     "base_uri": "https://localhost:8080/"
    },
    "id": "1P9DJzFnignD",
    "outputId": "4174f6a9-359b-4bb8-ebef-f6e9bb04461c"
   },
   "outputs": [],
   "source": [
    "train_preprocess(train_directory)"
   ]
  },
  {
   "cell_type": "code",
   "execution_count": null,
   "id": "RtDvxX4knxI1",
   "metadata": {
    "colab": {
     "base_uri": "https://localhost:8080/"
    },
    "id": "RtDvxX4knxI1",
    "outputId": "f1ba1a36-255c-42c8-da74-3df6205c4fe4"
   },
   "outputs": [],
   "source": [
    "train =train_preprocess(train_directory)"
   ]
  },
  {
   "cell_type": "code",
   "execution_count": null,
   "id": "ea7ecf4b",
   "metadata": {
    "colab": {
     "base_uri": "https://localhost:8080/"
    },
    "id": "ea7ecf4b",
    "outputId": "b87cf9e4-23bf-47e6-f3ae-ad7265242be8",
    "scrolled": false
   },
   "outputs": [],
   "source": [
    "val =validation_preprocess(val_directory)\n"
   ]
  },
  {
   "cell_type": "markdown",
   "id": "xNbb1fIdn4GW",
   "metadata": {
    "id": "xNbb1fIdn4GW"
   },
   "source": [
    "CHECKING PREPROCESSING:"
   ]
  },
  {
   "cell_type": "code",
   "execution_count": null,
   "id": "dzml79XPl7M5",
   "metadata": {
    "id": "dzml79XPl7M5"
   },
   "outputs": [],
   "source": [
    "t_img,label=train.next()"
   ]
  },
  {
   "cell_type": "code",
   "execution_count": null,
   "id": "mKHqahGBmS9-",
   "metadata": {
    "id": "mKHqahGBmS9-"
   },
   "outputs": [],
   "source": [
    "def plotImage(img_arr,label):\n",
    "  for im,l in zip(img_arr,label):\n",
    "    plt.figure(figsize=(5,5))\n",
    "    plt.imshow(im)\n",
    "    plt.show()"
   ]
  },
  {
   "cell_type": "code",
   "execution_count": null,
   "id": "9ax-4EtrnCwh",
   "metadata": {
    "colab": {
     "base_uri": "https://localhost:8080/",
     "height": 1000
    },
    "id": "9ax-4EtrnCwh",
    "outputId": "a9ed9451-bc39-4b1c-e1d1-323248c21e68"
   },
   "outputs": [],
   "source": [
    "plotImage(t_img[:3],label[:3])"
   ]
  },
  {
   "cell_type": "markdown",
   "id": "w2bZd1Y9n-IX",
   "metadata": {
    "id": "w2bZd1Y9n-IX"
   },
   "source": [
    "BUILDING MODEL:"
   ]
  },
  {
   "cell_type": "code",
   "execution_count": null,
   "id": "c7464987",
   "metadata": {
    "id": "c7464987"
   },
   "outputs": [],
   "source": [
    "from keras.layers import Dense, Flatten\n",
    "from keras.models import Model\n",
    "import keras\n",
    "from keras.applications.vgg19 import VGG19"
   ]
  },
  {
   "cell_type": "code",
   "execution_count": null,
   "id": "025d9b54",
   "metadata": {
    "colab": {
     "base_uri": "https://localhost:8080/"
    },
    "id": "025d9b54",
    "outputId": "b0e9d16f-b0e9-4662-88df-44f2500ae173",
    "scrolled": true
   },
   "outputs": [],
   "source": [
    "base_model = VGG19(input_shape=(256,256,3), include_top=False)"
   ]
  },
  {
   "cell_type": "code",
   "execution_count": null,
   "id": "Vzfdg95KG4yy",
   "metadata": {
    "id": "Vzfdg95KG4yy"
   },
   "outputs": [],
   "source": [
    "for layer in base_model.layers:\n",
    "  layer.trainable=False"
   ]
  },
  {
   "cell_type": "code",
   "execution_count": null,
   "id": "b0f149d5",
   "metadata": {
    "colab": {
     "base_uri": "https://localhost:8080/"
    },
    "id": "b0f149d5",
    "outputId": "686133f6-640c-405f-8fdc-ca20f3cde0b5",
    "scrolled": true
   },
   "outputs": [],
   "source": [
    "base_model.summary()"
   ]
  },
  {
   "cell_type": "code",
   "execution_count": null,
   "id": "ad2f9e4d",
   "metadata": {
    "id": "ad2f9e4d"
   },
   "outputs": [],
   "source": [
    "X = Flatten()(base_model.output)\n",
    "X = Dense(units=13, activation='softmax')(X)\n",
    "\n",
    "model=Model(base_model.input, X)"
   ]
  },
  {
   "cell_type": "code",
   "execution_count": null,
   "id": "3f3eae60",
   "metadata": {
    "colab": {
     "base_uri": "https://localhost:8080/"
    },
    "id": "3f3eae60",
    "outputId": "b5f56b3c-6289-4552-b738-e961c341f025"
   },
   "outputs": [],
   "source": [
    "model.summary()"
   ]
  },
  {
   "cell_type": "code",
   "execution_count": null,
   "id": "f7fe70f0",
   "metadata": {
    "id": "f7fe70f0"
   },
   "outputs": [],
   "source": [
    "model.compile(optimizer='adam',loss=keras.losses.categorical_crossentropy, metrics=['accuracy'])"
   ]
  },
  {
   "cell_type": "markdown",
   "id": "ca072283",
   "metadata": {
    "id": "ca072283"
   },
   "source": [
    "early stopping and model checkpoint"
   ]
  },
  {
   "cell_type": "code",
   "execution_count": null,
   "id": "380807e5",
   "metadata": {
    "id": "380807e5"
   },
   "outputs": [],
   "source": [
    "from keras.callbacks import ModelCheckpoint,EarlyStopping\n",
    "#early stopping\n",
    "es=EarlyStopping(monitor='val_accuracy', min_delta=0.01,patience=3,verbose=1)\n",
    "\n",
    "#model check point\n",
    "mc=ModelCheckpoint(filepath=\"best_model_new.h5\",monitor='val_accuracy', min_delta=0.01,patience=3,verbose=1,save_best_only=True)\n",
    "\n",
    "\n",
    "cb=[es,mc]"
   ]
  },
  {
   "cell_type": "code",
   "execution_count": null,
   "id": "85d7e777",
   "metadata": {
    "colab": {
     "base_uri": "https://localhost:8080/"
    },
    "id": "85d7e777",
    "outputId": "86c2059d-799d-4f4c-b5d1-253eaa2bd65d",
    "scrolled": true
   },
   "outputs": [],
   "source": [
    "his=model.fit_generator(train, \n",
    "                        steps_per_epoch=16,\n",
    "                        epochs=50, \n",
    "                        verbose=1, \n",
    "                        callbacks=cb, \n",
    "                        validation_data=val, \n",
    "                        validation_steps=16 )"
   ]
  },
  {
   "cell_type": "code",
   "execution_count": null,
   "id": "74be2d7f",
   "metadata": {
    "colab": {
     "base_uri": "https://localhost:8080/"
    },
    "id": "74be2d7f",
    "outputId": "308a66e6-3745-4895-be7c-793a6674c697"
   },
   "outputs": [],
   "source": [
    "import matplotlib.pyplot as plt\n",
    "import numpy as np\n",
    "import pandas as pd\n",
    "h=his.history\n",
    "h.keys()"
   ]
  },
  {
   "cell_type": "code",
   "execution_count": null,
   "id": "yccHAxaoOCpr",
   "metadata": {
    "colab": {
     "base_uri": "https://localhost:8080/",
     "height": 281
    },
    "id": "yccHAxaoOCpr",
    "outputId": "f3393832-df0b-45a4-d27f-46cbd5459090"
   },
   "outputs": [],
   "source": [
    "plt.plot(h['accuracy'])\n",
    "plt.plot(h['val_accuracy'], c='red')\n",
    "plt.title('acc vs v-acc')\n",
    "plt.show()"
   ]
  },
  {
   "cell_type": "code",
   "execution_count": null,
   "id": "4onw-_4HOfTR",
   "metadata": {
    "colab": {
     "base_uri": "https://localhost:8080/",
     "height": 281
    },
    "id": "4onw-_4HOfTR",
    "outputId": "3b797207-8610-4b2d-ff20-f503ffde84d6"
   },
   "outputs": [],
   "source": [
    "plt.plot(h['loss'])\n",
    "plt.plot(h['val_loss'], c='red')\n",
    "plt.title('loss vs v-loss')\n",
    "plt.show()"
   ]
  },
  {
   "cell_type": "markdown",
   "id": "ZQbmyOXGOzNb",
   "metadata": {
    "id": "ZQbmyOXGOzNb"
   },
   "source": [
    "LOADING BEST MODEL"
   ]
  },
  {
   "cell_type": "code",
   "execution_count": null,
   "id": "4uCgsJtbO5un",
   "metadata": {
    "id": "4uCgsJtbO5un"
   },
   "outputs": [],
   "source": [
    "from keras.models import load_model\n",
    "model=load_model(r\"C:\\Users\\vrush\\best_model_new.h5\")"
   ]
  },
  {
   "cell_type": "code",
   "execution_count": null,
   "id": "S9JtP7s9RbB_",
   "metadata": {
    "colab": {
     "base_uri": "https://localhost:8080/"
    },
    "id": "S9JtP7s9RbB_",
    "outputId": "f2b8978c-57a2-48d2-a14e-ea6754142760"
   },
   "outputs": [],
   "source": [
    "from tensorflow.python import keras\n",
    "import tensorflow\n",
    "\n",
    "\n",
    "converter= tensorflow.lite.TFLiteConverter.from_keras_model(model)\n",
    "\n",
    "tflite_model = converter.convert()\n"
   ]
  },
  {
   "cell_type": "code",
   "execution_count": null,
   "id": "MNi5Ve1JX-tU",
   "metadata": {
    "id": "MNi5Ve1JX-tU"
   },
   "outputs": [],
   "source": [
    "\n",
    "converter.optimizations = [tf.lite.Optimize.DEFAULT]\n",
    "\n",
    "\n",
    "tflite_quant_model = converter.convert()"
   ]
  },
  {
   "cell_type": "code",
   "execution_count": null,
   "id": "aXvVEDeFZr1Y",
   "metadata": {
    "colab": {
     "base_uri": "https://localhost:8080/"
    },
    "id": "aXvVEDeFZr1Y",
    "outputId": "0c654a96-7fdf-44fb-c5f3-700202204946"
   },
   "outputs": [],
   "source": [
    "len(tflite_quant_model)"
   ]
  },
  {
   "cell_type": "code",
   "execution_count": null,
   "id": "cb5ab246",
   "metadata": {},
   "outputs": [],
   "source": [
    "with open(\"converted_model_newer.tflite\",\"wb\") as f:\n",
    "    f.write(tflite_model)\n",
    "\n",
    "with open(\"converted_quant_model_newer.tflite\", \"wb\") as f:\n",
    "    f.write(tflite_quant_model)\n",
    "    "
   ]
  },
  {
   "cell_type": "code",
   "execution_count": null,
   "id": "74c35eb0",
   "metadata": {},
   "outputs": [],
   "source": [
    "import tensorflow_model_optimization as tfmot\n",
    "quantize_model = tfmot.quantization.keras.quantize_model\n",
    "q_aware_model = quantize_model(model)\n",
    "\n",
    "q_aware_model.compile(optimizer='adam',loss=keras.losses.categorical_crossentropy, metrics=['accuracy'])\n",
    "q_aware_model.summary()"
   ]
  },
  {
   "cell_type": "code",
   "execution_count": null,
   "id": "96bfce71",
   "metadata": {},
   "outputs": [],
   "source": [
    "q_aware_model.fit_generator(train, \n",
    "                        steps_per_epoch=16,\n",
    "                        epochs=10, \n",
    "                        verbose=1, \n",
    "                        callbacks=cb, \n",
    "                        validation_data=val, \n",
    "                        validation_steps=16 )"
   ]
  },
  {
   "cell_type": "code",
   "execution_count": null,
   "id": "478f5187",
   "metadata": {},
   "outputs": [],
   "source": [
    "converter= tf.lite.TFLiteConverter.from_keras_model(q_aware_model)\n",
    "converter.optimization = [tf.lite.Optimize.DEFAULT]\n",
    "tflite_qaware_model = converter.convert()"
   ]
  },
  {
   "cell_type": "code",
   "execution_count": null,
   "id": "f74e0174",
   "metadata": {},
   "outputs": [],
   "source": [
    "with open(\"tflite_qaware_model.tflite\",\"wb\") as f:\n",
    "    f.write(tflite_qaware_model)"
   ]
  },
  {
   "cell_type": "code",
   "execution_count": null,
   "id": "nR9G05DwPIYl",
   "metadata": {
    "colab": {
     "base_uri": "https://localhost:8080/"
    },
    "id": "nR9G05DwPIYl",
    "outputId": "82196712-3bd8-402b-c930-4a644e764a3d"
   },
   "outputs": [],
   "source": [
    "acc=q_aware_model.evaluate_generator(val)[1]\n",
    "print(f\"The accuracy of your model is ={acc*100}%\")"
   ]
  },
  {
   "cell_type": "code",
   "execution_count": null,
   "id": "4w4vr9XTaGGo",
   "metadata": {
    "id": "4w4vr9XTaGGo"
   },
   "outputs": [],
   "source": [
    "! pip install -q tensorflow-model-optimization\n"
   ]
  },
  {
   "cell_type": "code",
   "execution_count": null,
   "id": "oD8e_NCVcRFv",
   "metadata": {
    "id": "oD8e_NCVcRFv"
   },
   "outputs": [],
   "source": [
    "import tempfile\n",
    "import os\n",
    "\n",
    "import tensorflow as tf\n",
    "import numpy as np\n",
    "\n",
    "from tensorflow import keras\n",
    "\n",
    "%load_ext tensorboard"
   ]
  },
  {
   "cell_type": "code",
   "execution_count": null,
   "id": "5JcCaf2ccSaD",
   "metadata": {
    "colab": {
     "base_uri": "https://localhost:8080/",
     "height": 304
    },
    "id": "5JcCaf2ccSaD",
    "outputId": "811a5c21-a5dc-415b-fad7-79f32a67e3f9"
   },
   "outputs": [],
   "source": [
    "import tensorflow_model_optimization as tfmot"
   ]
  },
  {
   "cell_type": "markdown",
   "id": "jOkiDU-tQACu",
   "metadata": {
    "id": "jOkiDU-tQACu"
   },
   "source": [
    "TESTING"
   ]
  },
  {
   "cell_type": "code",
   "execution_count": null,
   "id": "e7DpgquDtjGD",
   "metadata": {
    "colab": {
     "base_uri": "https://localhost:8080/"
    },
    "id": "e7DpgquDtjGD",
    "outputId": "930bee5a-5f0d-4235-f811-1efdb20ca379"
   },
   "outputs": [],
   "source": [
    "ref =dict(zip(list(train.class_indices.values()), list(train.class_indices.keys())))\n",
    "dict(zip(list(train.class_indices.values()), list(train.class_indices.keys())))"
   ]
  },
  {
   "cell_type": "code",
   "execution_count": null,
   "id": "Q-KZKfg1QzJv",
   "metadata": {
    "id": "Q-KZKfg1QzJv"
   },
   "outputs": [],
   "source": [
    "path=r\"C:\\Users\\vrush\\Downloads\\plant\\image data\\test\\orange\\haunglongbing (citrus greening)\\00c44fe5-1ee3-481a-a309-7a9784a4e8c9___UF.Citrus_HLB_Lab 0504.JPG\"\n",
    "# prediction(path)\n"
   ]
  },
  {
   "cell_type": "code",
   "execution_count": null,
   "id": "gQG0E9-weAxm",
   "metadata": {
    "colab": {
     "base_uri": "https://localhost:8080/"
    },
    "id": "gQG0E9-weAxm",
    "outputId": "e036c139-8127-48c9-8217-3ce71677aa3a"
   },
   "outputs": [],
   "source": [
    "img = load_img(path, target_size=(256,256))\n",
    "i=img_to_array(img)\n",
    "im=preprocess_input(i)\n",
    "\n",
    "img=np.expand_dims(im,axis=0)\n",
    "\n",
    "pred= np.argmax(model.predict(img))\n",
    "print(ref[pred])"
   ]
  },
  {
   "cell_type": "code",
   "execution_count": null,
   "id": "rXV2oYsxcNGu",
   "metadata": {
    "id": "rXV2oYsxcNGu"
   },
   "outputs": [],
   "source": [
    "from pathlib import Path\n",
    "def predictfinal(path):\n",
    "  img = load_img(path, target_size=(256,256))\n",
    "  i=img_to_array(img)\n",
    "  im=preprocess_input(i)\n",
    "\n",
    "  img=np.expand_dims(im,axis=0)\n",
    "\n",
    "  pred= np.argmax(model.predict(img))\n",
    "  print(ref[pred])\n",
    "  data_folder = Path(\"C:/Users/vrush/Downloads/plant/image data/train/\")\n",
    "  dir_path = data_folder / ref[pred]\n",
    "  data_folder_n = Path(\"C:/Users/vrush/Downloads/plant/image data/validation\")\n",
    "  dir_pathone = data_folder_n / ref[pred]                   \n",
    "  print(dir_path)\n",
    " \n",
    "  train_inner = train_preprocess(dir_path)\n",
    "  val_inner =validation_preprocess(dir_pathone)\n",
    "  class_number = os.listdir(dir_path)\n",
    "  X_inner = Flatten()(base_model.output)\n",
    "  X_inner= Dense(units=len(class_number), activation='softmax')(X_inner)\n",
    "\n",
    "  model_inner=Model(base_model.input, X_inner)\n",
    "  model_inner.compile(optimizer='adam',loss=keras.losses.categorical_crossentropy, metrics=['accuracy'])\n",
    "  #early stopping\n",
    "  es_inner=EarlyStopping(monitor='val_accuracy', min_delta=0.01,patience=3,verbose=1)\n",
    "\n",
    "  #model check point\n",
    "  mc_inner=ModelCheckpoint(filepath=\"best_model_inner.h5\",monitor='val_accuracy', min_delta=0.01,patience=3,verbose=1,save_best_only=True)\n",
    "\n",
    "\n",
    "  cb_inner=[es_inner,mc_inner]\n",
    "  his_inner=model_inner.fit_generator(train_inner, \n",
    "                        steps_per_epoch=16,\n",
    "                        epochs=1, \n",
    "                        verbose=1, \n",
    "                        callbacks=cb_inner, \n",
    "                        validation_data=val_inner, \n",
    "                        validation_steps=2 )\n",
    "  model_inner=load_model(r\"C:\\Users\\vrush\\best_model_inner.h5\")\n",
    "  modelnew_inner = keras.models.load_model(model_inner)\n",
    "  converter= tensorflow.lite.TFLiteConverter.from_keras_model(modelnew_inner)\n",
    "  tflite_model_inner = converter.convert()\n",
    "  open(\"converted_model_inner.tflite\",\"wb\").write(tflite_model_inner)\n",
    "  ref_inner =dict(zip(list(train_inner.class_indices.values()), list(train_inner.class_indices.keys())))\n",
    "  print(ref_inner)\n",
    "  # img = load_img(path, target_size=(256,256))\n",
    "  # i=img_to_array(img)\n",
    "  # im=preprocess_input(i)\n",
    "\n",
    "  # img=np.expand_dims(im,axis=0)\n",
    "\n",
    "  pred= np.argmax(model_inner.predict(img))\n",
    "  print(f\"the image belongs to {ref_inner[pred]}\")\n",
    "\n",
    "  \n"
   ]
  },
  {
   "cell_type": "code",
   "execution_count": null,
   "id": "6XzyZKC4eW-p",
   "metadata": {
    "colab": {
     "base_uri": "https://localhost:8080/"
    },
    "id": "6XzyZKC4eW-p",
    "outputId": "ac1fed5b-f3e9-4955-9edb-214216ca1ad7"
   },
   "outputs": [],
   "source": [
    "predictfinal(path)"
   ]
  },
  {
   "cell_type": "code",
   "execution_count": null,
   "id": "84364497",
   "metadata": {},
   "outputs": [],
   "source": []
  }
 ],
 "metadata": {
  "accelerator": "GPU",
  "colab": {
   "collapsed_sections": [],
   "provenance": []
  },
  "kernelspec": {
   "display_name": "Python 3 (ipykernel)",
   "language": "python",
   "name": "python3"
  },
  "language_info": {
   "codemirror_mode": {
    "name": "ipython",
    "version": 3
   },
   "file_extension": ".py",
   "mimetype": "text/x-python",
   "name": "python",
   "nbconvert_exporter": "python",
   "pygments_lexer": "ipython3",
   "version": "3.9.12"
  }
 },
 "nbformat": 4,
 "nbformat_minor": 5
}
